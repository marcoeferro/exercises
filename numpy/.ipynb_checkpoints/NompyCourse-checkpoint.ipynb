{
 "cells": [
  {
   "cell_type": "markdown",
   "id": "b657e5ca-cc51-42ea-85e9-14ce5c8dd8fb",
   "metadata": {},
   "source": [
    "# Que es Numpy?\n",
    "\n",
    "Es una Libreria de arrays (vectores o arreglos) multidimensionales \n",
    "\n",
    "# Porque se utiliza Numpy en lugar de un arreglo multidimencional \n",
    "principalmente es por la velocidad de calculo que trae la libreria, esta caracteristica se da debido al tipo de dato que utiliza numpy para almacenar informacion, es decir al usa un dato que ocupa menos memoria debido a que no guarda toda la informacion que una lsita guardaria (lsta es la estructura de datos que se usaria para almacenar la informaicon si no se usa numpy), ademas el tipo de estructura de numpy organiza la iinformacion de manera  tal que sea mas eficiente (por ejemplo evitando saltos de datos para datos que deberia sen contiguos).\n",
    "\n",
    "## Beneficio de la estructura de datos NUMPY\n",
    "- Utilizamos la arquiiitectura SIMD de menera que podemos aplicar intrucciones a multiples valores de datos (diigitos, es decir 0 o 1) a la vez\n",
    "- Utilizacion mas efectiva de la CACHE de menera que podemos guardar en CACHE una cantidad menor de la estructura que vamos a utilizar (esto es debido a que aglomera datos de manera mas efectiva)\n",
    "\n",
    "# Diferencia de Numpy y List\n",
    "en Numpy puedo hacer todas las operaciones que puedo hacer en las listas y mas"
   ]
  },
  {
   "cell_type": "code",
   "execution_count": 1,
   "id": "8ae99f6d-99ba-4be9-a137-40458d731276",
   "metadata": {},
   "outputs": [],
   "source": [
    "import numpy as np"
   ]
  },
  {
   "cell_type": "markdown",
   "id": "634d4fb6-964c-49f9-a20b-f2c71d16f996",
   "metadata": {},
   "source": [
    "# The Basics"
   ]
  },
  {
   "cell_type": "code",
   "execution_count": 39,
   "id": "6722b4cc-c5c6-4813-89a2-4c56ad8292b7",
   "metadata": {},
   "outputs": [
    {
     "name": "stdout",
     "output_type": "stream",
     "text": [
      "[1 2 3]\n"
     ]
    }
   ],
   "source": [
    "a = np.array([1,2,3])\n",
    "print(a)"
   ]
  },
  {
   "cell_type": "code",
   "execution_count": 3,
   "id": "fbbb0f0a-0c91-427e-9b2e-6cb8912bb286",
   "metadata": {},
   "outputs": [
    {
     "name": "stdout",
     "output_type": "stream",
     "text": [
      "[[9. 8. 7.]\n",
      " [6. 5. 4.]]\n"
     ]
    }
   ],
   "source": [
    "b = np.array([[9.0,8.0,7.0],[6.0,5.0,4.0]])\n",
    "print(b)"
   ]
  },
  {
   "cell_type": "code",
   "execution_count": 4,
   "id": "cee61083-5b97-439d-9378-a0716a3b571a",
   "metadata": {},
   "outputs": [
    {
     "data": {
      "text/plain": [
       "1"
      ]
     },
     "execution_count": 4,
     "metadata": {},
     "output_type": "execute_result"
    }
   ],
   "source": [
    "#get gimension\n",
    "a.ndim"
   ]
  },
  {
   "cell_type": "code",
   "execution_count": 6,
   "id": "9d2f5379-209e-4347-a50b-ccbd92f9adec",
   "metadata": {},
   "outputs": [
    {
     "data": {
      "text/plain": [
       "(2, 3)"
      ]
     },
     "execution_count": 6,
     "metadata": {},
     "output_type": "execute_result"
    }
   ],
   "source": [
    "#get Shape\n",
    "b.shape"
   ]
  },
  {
   "cell_type": "code",
   "execution_count": 7,
   "id": "d7c5115e-8fa2-4d97-85ad-de19bcd35745",
   "metadata": {},
   "outputs": [
    {
     "data": {
      "text/plain": [
       "dtype('int32')"
      ]
     },
     "execution_count": 7,
     "metadata": {},
     "output_type": "execute_result"
    }
   ],
   "source": [
    "#get type \n",
    "a.dtype"
   ]
  },
  {
   "cell_type": "code",
   "execution_count": 9,
   "id": "6ee08023-4813-4d4e-817f-06ab233b4e37",
   "metadata": {},
   "outputs": [
    {
     "data": {
      "text/plain": [
       "4"
      ]
     },
     "execution_count": 9,
     "metadata": {},
     "output_type": "execute_result"
    }
   ],
   "source": [
    "#get Size\n",
    "a.itemsize"
   ]
  },
  {
   "cell_type": "code",
   "execution_count": 10,
   "id": "1b992768-a544-4f8e-a39b-14ce790ce169",
   "metadata": {},
   "outputs": [
    {
     "data": {
      "text/plain": [
       "12"
      ]
     },
     "execution_count": 10,
     "metadata": {},
     "output_type": "execute_result"
    }
   ],
   "source": [
    "#get Total Size\n",
    "a.nbytes"
   ]
  },
  {
   "cell_type": "markdown",
   "id": "dd31a888-e43c-42d9-a1ea-a20abd5c8f84",
   "metadata": {},
   "source": [
    "# Accessing/Changin specific elemente, rows, columns, etc"
   ]
  },
  {
   "cell_type": "code",
   "execution_count": 19,
   "id": "e65b8fd7-cdc7-4fb8-9339-c0f1dfcf0899",
   "metadata": {},
   "outputs": [
    {
     "name": "stdout",
     "output_type": "stream",
     "text": [
      "[[ 1  2  3  4  5  6  7]\n",
      " [ 8  9 10 11 12 13 14]]\n"
     ]
    }
   ],
   "source": [
    "a = np.array([[1,2,3,4,5,6,7],[8,9,10,11,12,13,14]])\n",
    "print(a)"
   ]
  },
  {
   "cell_type": "code",
   "execution_count": 13,
   "id": "650a9b23-470d-4f42-9633-f056563b9de4",
   "metadata": {},
   "outputs": [
    {
     "data": {
      "text/plain": [
       "14"
      ]
     },
     "execution_count": 13,
     "metadata": {},
     "output_type": "execute_result"
    }
   ],
   "source": [
    "#get a specific element [r,c]\n",
    "a[1,-1]"
   ]
  },
  {
   "cell_type": "code",
   "execution_count": 14,
   "id": "5b861199-535a-4033-be32-59c869fef6ce",
   "metadata": {},
   "outputs": [
    {
     "data": {
      "text/plain": [
       "array([1, 2, 3, 4, 5, 6, 7])"
      ]
     },
     "execution_count": 14,
     "metadata": {},
     "output_type": "execute_result"
    }
   ],
   "source": [
    "#get a specific row\n",
    "a[0,:]"
   ]
  },
  {
   "cell_type": "code",
   "execution_count": 15,
   "id": "15b8f2a3-8696-40f5-8e3c-55279f97a7bc",
   "metadata": {},
   "outputs": [
    {
     "data": {
      "text/plain": [
       "array([1, 8])"
      ]
     },
     "execution_count": 15,
     "metadata": {},
     "output_type": "execute_result"
    }
   ],
   "source": [
    "#get a specific column\n",
    "a[:,0]"
   ]
  },
  {
   "cell_type": "code",
   "execution_count": 16,
   "id": "f4dd6cea-01f9-4b88-ab45-627d2ce62262",
   "metadata": {},
   "outputs": [
    {
     "data": {
      "text/plain": [
       "array([2, 4, 6])"
      ]
     },
     "execution_count": 16,
     "metadata": {},
     "output_type": "execute_result"
    }
   ],
   "source": [
    "# getting fancy \n",
    "#[startindex:endindex,stepsize]\n",
    "a[0,1:6:2]"
   ]
  },
  {
   "cell_type": "code",
   "execution_count": 20,
   "id": "3eb26f1c-0509-402d-bc47-40d1b4911718",
   "metadata": {},
   "outputs": [
    {
     "name": "stdout",
     "output_type": "stream",
     "text": [
      "[[ 1  2  3  4  5  6  7]\n",
      " [ 8  9 10 11 12 20 14]]\n"
     ]
    }
   ],
   "source": [
    "a[1,5] = 20\n",
    "print(a)"
   ]
  },
  {
   "cell_type": "code",
   "execution_count": 21,
   "id": "54fa808a-9fe6-454f-bafb-141519f23beb",
   "metadata": {},
   "outputs": [
    {
     "name": "stdout",
     "output_type": "stream",
     "text": [
      "[[ 1  2  3  4  5  6  7]\n",
      " [ 8  2 10 11 12 20 14]]\n"
     ]
    }
   ],
   "source": [
    "a[:,1] = 2\n",
    "print(a)"
   ]
  },
  {
   "cell_type": "code",
   "execution_count": 22,
   "id": "3578a242-4cdb-489d-93ec-9b4ecb78c249",
   "metadata": {},
   "outputs": [
    {
     "name": "stdout",
     "output_type": "stream",
     "text": [
      "[[ 1  2  1  4  5  6  7]\n",
      " [ 8  2  2 11 12 20 14]]\n"
     ]
    }
   ],
   "source": [
    "a[:,2] = [1,2]\n",
    "print(a)"
   ]
  },
  {
   "cell_type": "code",
   "execution_count": 28,
   "id": "5f93f34f-271a-4dbb-8d92-2f47fbb06782",
   "metadata": {},
   "outputs": [
    {
     "name": "stdout",
     "output_type": "stream",
     "text": [
      "[[[1 2]\n",
      "  [3 4]]\n",
      "\n",
      " [[5 6]\n",
      "  [7 8]]]\n"
     ]
    }
   ],
   "source": [
    "b = np.array([[[1,2],[3,4]],[[5,6],[7,8]]])\n",
    "print(b)"
   ]
  },
  {
   "cell_type": "code",
   "execution_count": 24,
   "id": "49fd35ec-72ed-4943-b3e9-de299e04c34a",
   "metadata": {},
   "outputs": [
    {
     "data": {
      "text/plain": [
       "8"
      ]
     },
     "execution_count": 24,
     "metadata": {},
     "output_type": "execute_result"
    }
   ],
   "source": [
    "#get a specific number \n",
    "b[1,1,1]"
   ]
  },
  {
   "cell_type": "code",
   "execution_count": 29,
   "id": "82fd15d4-6805-4104-8b71-1d196ae7ef9e",
   "metadata": {},
   "outputs": [
    {
     "name": "stdout",
     "output_type": "stream",
     "text": [
      "[[[1 2]\n",
      "  [9 9]]\n",
      "\n",
      " [[5 6]\n",
      "  [9 9]]]\n"
     ]
    }
   ],
   "source": [
    "#repalce\n",
    "b[:,1,:] = [9,9]\n",
    "print(b)"
   ]
  },
  {
   "cell_type": "code",
   "execution_count": 31,
   "id": "08152c15-12b2-4e21-994e-bf4242139811",
   "metadata": {},
   "outputs": [
    {
     "name": "stdout",
     "output_type": "stream",
     "text": [
      "[[[7 7]\n",
      "  [9 9]]\n",
      "\n",
      " [[8 8]\n",
      "  [9 9]]]\n"
     ]
    }
   ],
   "source": [
    "#repalce\n",
    "b[:,0,:] = [[7,7],[8,8]]\n",
    "print(b)"
   ]
  },
  {
   "cell_type": "markdown",
   "id": "1f430063-459d-45e3-94c5-cbbd8339ae50",
   "metadata": {},
   "source": [
    "# Initializing Different Types of Arrays (Array creation routine)"
   ]
  },
  {
   "cell_type": "code",
   "execution_count": 33,
   "id": "c43547f5-f8b2-4084-898c-556aa0743769",
   "metadata": {},
   "outputs": [
    {
     "data": {
      "text/plain": [
       "array([[0., 0., 0.],\n",
       "       [0., 0., 0.]])"
      ]
     },
     "execution_count": 33,
     "metadata": {},
     "output_type": "execute_result"
    }
   ],
   "source": [
    "# All 0s matrix\n",
    "np.zeros((2,3))"
   ]
  },
  {
   "cell_type": "code",
   "execution_count": 35,
   "id": "2ba28bdb-e078-4d4c-abd0-e866a02210fa",
   "metadata": {},
   "outputs": [
    {
     "data": {
      "text/plain": [
       "array([[[1, 1],\n",
       "        [1, 1]],\n",
       "\n",
       "       [[1, 1],\n",
       "        [1, 1]],\n",
       "\n",
       "       [[1, 1],\n",
       "        [1, 1]],\n",
       "\n",
       "       [[1, 1],\n",
       "        [1, 1]]])"
      ]
     },
     "execution_count": 35,
     "metadata": {},
     "output_type": "execute_result"
    }
   ],
   "source": [
    "np.ones((4,2,2), dtype='int32')"
   ]
  },
  {
   "cell_type": "code",
   "execution_count": 37,
   "id": "5d5442b5-3352-4ade-86c6-dc8c4a421dba",
   "metadata": {},
   "outputs": [
    {
     "data": {
      "text/plain": [
       "array([[99., 99.],\n",
       "       [99., 99.]], dtype=float32)"
      ]
     },
     "execution_count": 37,
     "metadata": {},
     "output_type": "execute_result"
    }
   ],
   "source": [
    "# initialize with other numbers\n",
    "np.full((2,2),99, dtype='float32')"
   ]
  },
  {
   "cell_type": "code",
   "execution_count": 41,
   "id": "32bce4d6-d1c5-452e-87af-ba0833535829",
   "metadata": {},
   "outputs": [
    {
     "data": {
      "text/plain": [
       "array([4, 4, 4])"
      ]
     },
     "execution_count": 41,
     "metadata": {},
     "output_type": "execute_result"
    }
   ],
   "source": [
    "# take a already build shape and fill it with whatever number i want\n",
    "np.full_like(a, 4)"
   ]
  },
  {
   "cell_type": "code",
   "execution_count": 42,
   "id": "89eb4dcb-ba02-4b0d-8075-9d3f851557c3",
   "metadata": {},
   "outputs": [
    {
     "data": {
      "text/plain": [
       "array([[0.31861294, 0.01755553],\n",
       "       [0.68357769, 0.89556372],\n",
       "       [0.67771136, 0.09600243],\n",
       "       [0.74867758, 0.0564905 ]])"
      ]
     },
     "execution_count": 42,
     "metadata": {},
     "output_type": "execute_result"
    }
   ],
   "source": [
    "#reandom decimal numbers\n",
    "np.random.rand(4,2)"
   ]
  },
  {
   "cell_type": "code",
   "execution_count": 50,
   "id": "e5130cf1-221a-4bb3-8f5c-55ac2aa74d90",
   "metadata": {},
   "outputs": [
    {
     "data": {
      "text/plain": [
       "array([[ 4,  1,  4],\n",
       "       [ 0, -4,  5],\n",
       "       [ 4,  1,  2]])"
      ]
     },
     "execution_count": 50,
     "metadata": {},
     "output_type": "execute_result"
    }
   ],
   "source": [
    "#random Integer values\n",
    "np.random.randint(-4,7,size=(3,3))"
   ]
  },
  {
   "cell_type": "code",
   "execution_count": 51,
   "id": "f204d060-8b84-414a-a8f3-270c4d55808d",
   "metadata": {},
   "outputs": [
    {
     "data": {
      "text/plain": [
       "array([[1., 0., 0., 0., 0.],\n",
       "       [0., 1., 0., 0., 0.],\n",
       "       [0., 0., 1., 0., 0.],\n",
       "       [0., 0., 0., 1., 0.],\n",
       "       [0., 0., 0., 0., 1.]])"
      ]
     },
     "execution_count": 51,
     "metadata": {},
     "output_type": "execute_result"
    }
   ],
   "source": [
    "# The identity matrix\n",
    "np.identity(5)"
   ]
  },
  {
   "cell_type": "code",
   "execution_count": 53,
   "id": "ccd15960-2ce8-4d72-ac46-e9b55b0e015a",
   "metadata": {},
   "outputs": [
    {
     "name": "stdout",
     "output_type": "stream",
     "text": [
      "[[1 2 3]\n",
      " [1 2 3]\n",
      " [1 2 3]]\n"
     ]
    }
   ],
   "source": [
    "#repite loq ue le demos la veces que le digamos sobre le eje que le especificacmos\n",
    "arr = np.array([[1,2,3]])\n",
    "r1 = np.repeat(arr,3,axis=0)\n",
    "print(r1)"
   ]
  },
  {
   "cell_type": "code",
   "execution_count": 60,
   "id": "07b1a7e0-042c-42c8-8d5e-75bd864ecd38",
   "metadata": {},
   "outputs": [
    {
     "name": "stdout",
     "output_type": "stream",
     "text": [
      "[[1 1 1 1 1]\n",
      " [1 0 0 0 1]\n",
      " [1 0 9 0 1]\n",
      " [1 0 0 0 1]\n",
      " [1 1 1 1 1]]\n"
     ]
    }
   ],
   "source": [
    "#challange\n",
    "arr2 = np.ones((5,5), dtype='int32')\n",
    "arr2[1:4,1:4] = 0\n",
    "arr2[2,2] = 9\n",
    "print(arr2)"
   ]
  },
  {
   "cell_type": "markdown",
   "id": "27766bba-f4e1-4466-a86f-6a26f90c35a6",
   "metadata": {},
   "source": [
    "#### Copeing arrays"
   ]
  },
  {
   "cell_type": "code",
   "execution_count": 62,
   "id": "62eb9c17-4b3b-4def-bfa5-68f54b6b6733",
   "metadata": {},
   "outputs": [
    {
     "name": "stdout",
     "output_type": "stream",
     "text": [
      "[ 1 99  3]\n"
     ]
    }
   ],
   "source": [
    "a = np.array([1,2,3])\n",
    "b=a\n",
    "b[1]=99\n",
    "print(a)"
   ]
  },
  {
   "cell_type": "code",
   "execution_count": 63,
   "id": "b517d5c3-336e-442b-9aed-9dfea8dc5a97",
   "metadata": {},
   "outputs": [
    {
     "name": "stdout",
     "output_type": "stream",
     "text": [
      "[1 2 3]\n"
     ]
    }
   ],
   "source": [
    "a = np.array([1,2,3])\n",
    "b=a.copy()\n",
    "b[1]=99\n",
    "print(a)"
   ]
  },
  {
   "cell_type": "markdown",
   "id": "975f5d40-b22d-4b92-9b7f-9768afb38d3d",
   "metadata": {},
   "source": [
    "# Math"
   ]
  },
  {
   "cell_type": "code",
   "execution_count": 64,
   "id": "58c5ed59-7ff8-4f98-b074-e6630d3fe829",
   "metadata": {},
   "outputs": [
    {
     "name": "stdout",
     "output_type": "stream",
     "text": [
      "[1 2 3 4]\n"
     ]
    }
   ],
   "source": [
    "a = np.array([1,2,3,4])a\n",
    "print(a)"
   ]
  },
  {
   "cell_type": "code",
   "execution_count": 131,
   "id": "1e9e7278-04ce-4863-b5d3-90cfa6b93263",
   "metadata": {},
   "outputs": [
    {
     "data": {
      "text/plain": [
       "array([1, 2, 3, 4, 5, 6, 7, 8, 9, 5, 6, 7, 8])"
      ]
     },
     "execution_count": 131,
     "metadata": {},
     "output_type": "execute_result"
    }
   ],
   "source": [
    "a = np.append(a,[5,6,7,8])\n",
    "a"
   ]
  },
  {
   "cell_type": "code",
   "execution_count": 133,
   "id": "533901a0-2ae9-4c52-8c94-7df20c633b23",
   "metadata": {},
   "outputs": [
    {
     "data": {
      "text/plain": [
       "array([1, 2, 3, 9, 9, 9, 9, 9, 9, 9, 9, 4, 5, 6, 7, 8, 9, 5, 6, 7, 8])"
      ]
     },
     "execution_count": 133,
     "metadata": {},
     "output_type": "execute_result"
    }
   ],
   "source": [
    "a = np.insert(a,3,[9,9,9,9])\n",
    "a"
   ]
  },
  {
   "cell_type": "code",
   "execution_count": 136,
   "id": "adfbdc1f-5090-4985-b63d-e50728e6268b",
   "metadata": {},
   "outputs": [
    {
     "name": "stdout",
     "output_type": "stream",
     "text": [
      "[2 3 9 9 9 9 9 9 9 9 4 5 6 7 8 9 5 6 7 8]\n"
     ]
    }
   ],
   "source": [
    "print(np.delete(a,0))\n",
    "print(np.delete(a,0,))"
   ]
  },
  {
   "cell_type": "code",
   "execution_count": 139,
   "id": "3520cbb8-d121-4806-96af-4a20561d89d3",
   "metadata": {},
   "outputs": [
    {
     "name": "stdout",
     "output_type": "stream",
     "text": [
      "[[ 0  1  2  3  4]\n",
      " [ 5  6  7  8  9]\n",
      " [10 11 12 13 14]]\n",
      "[[ 0  1  2]\n",
      " [ 3  4  5]\n",
      " [ 6  7  8]\n",
      " [ 9 10 11]\n",
      " [12 13 14]]\n"
     ]
    }
   ],
   "source": [
    "a = np.arange(15).reshape(3,5)\n",
    "print(a)\n",
    "print(a.reshape(5,3))"
   ]
  },
  {
   "cell_type": "code",
   "execution_count": 140,
   "id": "c684a2da-70c4-4864-a71d-4d707405947a",
   "metadata": {},
   "outputs": [
    {
     "name": "stdout",
     "output_type": "stream",
     "text": [
      "[ 0  1  2  3  4  5  6  7  8  9 10 11 12 13 14]\n",
      "[ 0  1  2  3  4  5  6  7  8  9 10 11 12 13 14]\n"
     ]
    }
   ],
   "source": [
    "print(a.flatten()) # flatten copy\n",
    "print(a.ravel()) # flatten view mean its the original array just observed from another perspective"
   ]
  },
  {
   "cell_type": "code",
   "execution_count": 141,
   "id": "55c577d5-301e-4960-9452-b2a4cb266353",
   "metadata": {},
   "outputs": [
    {
     "name": "stdout",
     "output_type": "stream",
     "text": [
      "[[ 0  5 10]\n",
      " [ 1  6 11]\n",
      " [ 2  7 12]\n",
      " [ 3  8 13]\n",
      " [ 4  9 14]]\n"
     ]
    }
   ],
   "source": [
    "print(a.T)"
   ]
  },
  {
   "cell_type": "code",
   "execution_count": 143,
   "id": "fc9da0d8-e3e9-41ea-930e-aaba545ed159",
   "metadata": {},
   "outputs": [
    {
     "name": "stdout",
     "output_type": "stream",
     "text": [
      "[[ 0  5 10]\n",
      " [ 1  6 11]\n",
      " [ 2  7 12]\n",
      " [ 3  8 13]\n",
      " [ 4  9 14]]\n"
     ]
    }
   ],
   "source": [
    "print(a.swapaxes(0,1)) "
   ]
  },
  {
   "cell_type": "code",
   "execution_count": 65,
   "id": "c995e89a-edbe-4e6a-bb3d-22f4289f252d",
   "metadata": {},
   "outputs": [
    {
     "data": {
      "text/plain": [
       "array([3, 4, 5, 6])"
      ]
     },
     "execution_count": 65,
     "metadata": {},
     "output_type": "execute_result"
    }
   ],
   "source": [
    "a+2"
   ]
  },
  {
   "cell_type": "code",
   "execution_count": 66,
   "id": "1b8fde7e-5617-452b-8da5-943793736f1e",
   "metadata": {},
   "outputs": [
    {
     "data": {
      "text/plain": [
       "array([-1,  0,  1,  2])"
      ]
     },
     "execution_count": 66,
     "metadata": {},
     "output_type": "execute_result"
    }
   ],
   "source": [
    "a-2"
   ]
  },
  {
   "cell_type": "code",
   "execution_count": 67,
   "id": "9de07ae0-a786-4230-b636-52c13abafd98",
   "metadata": {},
   "outputs": [
    {
     "data": {
      "text/plain": [
       "array([2, 4, 6, 8])"
      ]
     },
     "execution_count": 67,
     "metadata": {},
     "output_type": "execute_result"
    }
   ],
   "source": [
    "a*2"
   ]
  },
  {
   "cell_type": "code",
   "execution_count": 68,
   "id": "382a4397-5ddd-42b9-a1ea-92a83290488c",
   "metadata": {},
   "outputs": [
    {
     "data": {
      "text/plain": [
       "array([0.5, 1. , 1.5, 2. ])"
      ]
     },
     "execution_count": 68,
     "metadata": {},
     "output_type": "execute_result"
    }
   ],
   "source": [
    "a/2"
   ]
  },
  {
   "cell_type": "code",
   "execution_count": 69,
   "id": "e01bbd79-1682-4b17-9737-1843230c6eca",
   "metadata": {},
   "outputs": [],
   "source": [
    "b = np.array([1,0,1,0])"
   ]
  },
  {
   "cell_type": "code",
   "execution_count": 70,
   "id": "b2953dd7-0cc1-48ba-bd4b-29d6f60b579b",
   "metadata": {},
   "outputs": [
    {
     "data": {
      "text/plain": [
       "array([ 1,  4,  9, 16])"
      ]
     },
     "execution_count": 70,
     "metadata": {},
     "output_type": "execute_result"
    }
   ],
   "source": [
    "a**2"
   ]
  },
  {
   "cell_type": "code",
   "execution_count": 72,
   "id": "488b384c-0e11-4c49-a3fe-f96a3822dd1e",
   "metadata": {},
   "outputs": [
    {
     "data": {
      "text/plain": [
       "array([ 0.84147098,  0.90929743,  0.14112001, -0.7568025 ])"
      ]
     },
     "execution_count": 72,
     "metadata": {},
     "output_type": "execute_result"
    }
   ],
   "source": [
    "# Take the sin\n",
    "np.sin(a)"
   ]
  },
  {
   "cell_type": "code",
   "execution_count": 145,
   "id": "6c4d16ee-fa4c-4e96-b6a2-2c82e2721eef",
   "metadata": {},
   "outputs": [
    {
     "data": {
      "text/plain": [
       "array([[ 0,  1,  2,  3,  4],\n",
       "       [ 5,  6,  7,  8,  9],\n",
       "       [10, 11, 12, 13, 14]])"
      ]
     },
     "execution_count": 145,
     "metadata": {},
     "output_type": "execute_result"
    }
   ],
   "source": [
    "a"
   ]
  },
  {
   "cell_type": "code",
   "execution_count": 146,
   "id": "62a483a6-1f87-4bb0-a6ba-6468ae4a62e7",
   "metadata": {},
   "outputs": [
    {
     "data": {
      "text/plain": [
       "array([[ 0,  1,  2,  3,  4],\n",
       "       [ 5,  6,  7,  8,  9],\n",
       "       [10, 11, 12, 13, 14]])"
      ]
     },
     "execution_count": 146,
     "metadata": {},
     "output_type": "execute_result"
    }
   ],
   "source": [
    "b = np.arange(15).reshape(3,5)\n",
    "b"
   ]
  },
  {
   "cell_type": "markdown",
   "id": "c1f7d482-7c07-4c74-8ea3-ee175b6f2bf1",
   "metadata": {},
   "source": [
    "# Linear Algebra"
   ]
  },
  {
   "cell_type": "code",
   "execution_count": 77,
   "id": "68ce7ec7-268c-4eb7-b24c-805983eeaaf8",
   "metadata": {},
   "outputs": [
    {
     "name": "stdout",
     "output_type": "stream",
     "text": [
      "[[6. 6.]\n",
      " [6. 6.]]\n"
     ]
    }
   ],
   "source": [
    "a = np.ones((2,3))\n",
    "b = np.full((3,2),2)\n",
    "c = np.matmul(a,b)\n",
    "print(c)"
   ]
  },
  {
   "cell_type": "code",
   "execution_count": 78,
   "id": "ac81cc40-388f-459e-92e1-d83161c15ac4",
   "metadata": {},
   "outputs": [
    {
     "data": {
      "text/plain": [
       "1.0"
      ]
     },
     "execution_count": 78,
     "metadata": {},
     "output_type": "execute_result"
    }
   ],
   "source": [
    "c = np.identity(3)\n",
    "np.linalg.det(c)"
   ]
  },
  {
   "cell_type": "markdown",
   "id": "9d5def62-38b5-44ec-997c-66ad4421fb9d",
   "metadata": {},
   "source": [
    "# Statistics"
   ]
  },
  {
   "cell_type": "code",
   "execution_count": 81,
   "id": "be319734-99ba-48bb-8f6b-eed1c0b866f8",
   "metadata": {},
   "outputs": [],
   "source": [
    "stats = np.array([[1,2,3],[4,5,6]])"
   ]
  },
  {
   "cell_type": "code",
   "execution_count": 82,
   "id": "563dd49a-5b9e-4a09-84d5-f15f593d8cbf",
   "metadata": {},
   "outputs": [
    {
     "data": {
      "text/plain": [
       "1"
      ]
     },
     "execution_count": 82,
     "metadata": {},
     "output_type": "execute_result"
    }
   ],
   "source": [
    "np.min(stats)"
   ]
  },
  {
   "cell_type": "code",
   "execution_count": 83,
   "id": "3beea1bf-32c0-4b08-ba5b-c99b3aa2f9cb",
   "metadata": {},
   "outputs": [
    {
     "data": {
      "text/plain": [
       "6"
      ]
     },
     "execution_count": 83,
     "metadata": {},
     "output_type": "execute_result"
    }
   ],
   "source": [
    "np.max(stats)"
   ]
  },
  {
   "cell_type": "code",
   "execution_count": 87,
   "id": "6599085e-96d6-4552-b157-89e9c1edc60c",
   "metadata": {},
   "outputs": [
    {
     "data": {
      "text/plain": [
       "array([5, 7, 9])"
      ]
     },
     "execution_count": 87,
     "metadata": {},
     "output_type": "execute_result"
    }
   ],
   "source": [
    "np.sum(stats,axis=0)"
   ]
  },
  {
   "cell_type": "code",
   "execution_count": 86,
   "id": "9caf67b9-2b33-4307-981b-9cfcc62ccf17",
   "metadata": {},
   "outputs": [
    {
     "data": {
      "text/plain": [
       "array([ 6, 15])"
      ]
     },
     "execution_count": 86,
     "metadata": {},
     "output_type": "execute_result"
    }
   ],
   "source": [
    "np.sum(stats,axis=1)"
   ]
  },
  {
   "cell_type": "code",
   "execution_count": 88,
   "id": "0cebf0d6-5383-47a6-ae02-b3f866448e55",
   "metadata": {},
   "outputs": [
    {
     "data": {
      "text/plain": [
       "21"
      ]
     },
     "execution_count": 88,
     "metadata": {},
     "output_type": "execute_result"
    }
   ],
   "source": [
    "np.sum(stats)"
   ]
  },
  {
   "cell_type": "markdown",
   "id": "f39d486b-04cb-456c-8083-86a1c7c16ca3",
   "metadata": {},
   "source": [
    "# reorganizing Arrays"
   ]
  },
  {
   "cell_type": "code",
   "execution_count": 92,
   "id": "9bdc73cb-58e1-4460-b6b2-b65bed113696",
   "metadata": {},
   "outputs": [
    {
     "name": "stdout",
     "output_type": "stream",
     "text": [
      "[[1 2 3 4]\n",
      " [5 6 7 8]]\n",
      "\n",
      " [[[1 2]\n",
      "  [3 4]]\n",
      "\n",
      " [[5 6]\n",
      "  [7 8]]]\n"
     ]
    }
   ],
   "source": [
    "before = np.array([[1,2,3,4],[5,6,7,8]])\n",
    "print(before)\n",
    "after = before.reshape((2,2,2))\n",
    "print('\\n',after)\n"
   ]
  },
  {
   "cell_type": "code",
   "execution_count": 150,
   "id": "86a1b4c9-b5b2-4359-b88c-4896bb18a3dc",
   "metadata": {},
   "outputs": [
    {
     "name": "stdout",
     "output_type": "stream",
     "text": [
      "[1 2 3 4 5 6 7 8]\n",
      "[[ 1  2  3  4  9 10 11 12]\n",
      " [ 5  6  7  8 13 14 15 16]]\n"
     ]
    }
   ],
   "source": [
    "#Concatenation \n",
    "c1 = np.array([1,2,3,4])\n",
    "c2 = np.array([5,6,7,8])\n",
    "c3 = np.concatenate((c1,c2),axis=0)\n",
    "print(c3)\n",
    "c1 = np.array([[1,2,3,4],[5,6,7,8]])\n",
    "c2 = np.array([[9,10,11,12],[13,14,15,16]])\n",
    "c3 = np.concatenate((c1,c2),axis=1)\n",
    "print(c3)"
   ]
  },
  {
   "cell_type": "code",
   "execution_count": null,
   "id": "7d0b2b0d-8a0e-484d-970c-62e29667af4f",
   "metadata": {},
   "outputs": [],
   "source": [
    "#splitting"
   ]
  },
  {
   "cell_type": "code",
   "execution_count": 94,
   "id": "c53202fb-2323-4076-9469-d164a7137802",
   "metadata": {},
   "outputs": [
    {
     "data": {
      "text/plain": [
       "array([[1, 2, 3, 4],\n",
       "       [5, 6, 7, 8],\n",
       "       [1, 2, 3, 4],\n",
       "       [5, 6, 7, 8]])"
      ]
     },
     "execution_count": 94,
     "metadata": {},
     "output_type": "execute_result"
    }
   ],
   "source": [
    "#Vertically Stacking vectors\n",
    "v1 = np.array([1,2,3,4])\n",
    "v2 = np.array([5,6,7,8])\n",
    "\n",
    "np.vstack([v1,v2,v1,v2])\n"
   ]
  },
  {
   "cell_type": "code",
   "execution_count": 95,
   "id": "9049f95e-14a8-4c44-b2a3-6a0ec1999e90",
   "metadata": {},
   "outputs": [
    {
     "data": {
      "text/plain": [
       "array([2, 4, 5, 5])"
      ]
     },
     "execution_count": 95,
     "metadata": {},
     "output_type": "execute_result"
    }
   ],
   "source": [
    "#Horizontally Stacking vectors\n",
    "h1 = np.array([2,4])\n",
    "h2 = np.array([5,5])\n",
    "\n",
    "np.hstack([h1,h2])\n"
   ]
  },
  {
   "cell_type": "markdown",
   "id": "a79981ae-3de1-4a3c-b00c-dae14fc51d9a",
   "metadata": {},
   "source": [
    "# Miscellaneous\n"
   ]
  },
  {
   "cell_type": "markdown",
   "id": "85aa91fb-95cd-45a3-a4bd-d935f0abf5bb",
   "metadata": {},
   "source": [
    "## Load Data from file"
   ]
  },
  {
   "cell_type": "code",
   "execution_count": 99,
   "id": "1f8474d5-ff91-4b70-a254-c876bd927a15",
   "metadata": {},
   "outputs": [
    {
     "data": {
      "text/plain": [
       "array([[  1,  13,  21,  11, 196,  75,   4,   3,  34,   6,   7,   8,   0,\n",
       "          1,   2,   3,   4,   5],\n",
       "       [  3,  42,  12,  33, 766,  75,   4,  55,   6,   4,   3,   4,   5,\n",
       "          6,   7,   0,  11,  12],\n",
       "       [  1,  22,  33,  11, 999,  11,   2,   1,  78,   0,   1,   2,   9,\n",
       "          8,   7,   1,  76,  88]])"
      ]
     },
     "execution_count": 99,
     "metadata": {},
     "output_type": "execute_result"
    }
   ],
   "source": [
    "filedata = np.genfromtxt('data.txt', delimiter=',')\n",
    "filedata = filedata.astype('int32')\n",
    "filedata"
   ]
  },
  {
   "cell_type": "markdown",
   "id": "aecf761f-5467-4efa-8e8b-f033ab8bb3ec",
   "metadata": {},
   "source": [
    "## Boolean Masking and Advance Indexing"
   ]
  },
  {
   "cell_type": "code",
   "execution_count": 101,
   "id": "65ecae0b-7972-4519-b89d-14d4203d8ddc",
   "metadata": {},
   "outputs": [
    {
     "data": {
      "text/plain": [
       "array([[False, False, False, False,  True,  True, False, False, False,\n",
       "        False, False, False, False, False, False, False, False, False],\n",
       "       [False, False, False, False,  True,  True, False,  True, False,\n",
       "        False, False, False, False, False, False, False, False, False],\n",
       "       [False, False, False, False,  True, False, False, False,  True,\n",
       "        False, False, False, False, False, False, False,  True,  True]])"
      ]
     },
     "execution_count": 101,
     "metadata": {},
     "output_type": "execute_result"
    }
   ],
   "source": [
    "filedata > 50"
   ]
  },
  {
   "cell_type": "code",
   "execution_count": 100,
   "id": "30c413ab-6272-4b04-bd37-879bd66d3fa5",
   "metadata": {},
   "outputs": [
    {
     "data": {
      "text/plain": [
       "array([196,  75, 766,  75,  55, 999,  78,  76,  88])"
      ]
     },
     "execution_count": 100,
     "metadata": {},
     "output_type": "execute_result"
    }
   ],
   "source": [
    "filedata[filedata > 50]"
   ]
  },
  {
   "cell_type": "code",
   "execution_count": 102,
   "id": "c096f1ca-c9a6-48a1-8cfa-cdf298b94fea",
   "metadata": {},
   "outputs": [
    {
     "data": {
      "text/plain": [
       "array([2, 3, 9])"
      ]
     },
     "execution_count": 102,
     "metadata": {},
     "output_type": "execute_result"
    }
   ],
   "source": [
    "# index with a list in Numpy\n",
    "a = np.array([1,2,3,4,5,6,7,8,9])\n",
    "a[[1,2,8]]"
   ]
  },
  {
   "cell_type": "code",
   "execution_count": 103,
   "id": "a25e6297-32fb-40c3-aca5-402d1a551c76",
   "metadata": {},
   "outputs": [
    {
     "data": {
      "text/plain": [
       "array([False, False, False, False,  True,  True, False,  True,  True,\n",
       "       False, False, False, False, False, False, False,  True,  True])"
      ]
     },
     "execution_count": 103,
     "metadata": {},
     "output_type": "execute_result"
    }
   ],
   "source": [
    "np.any(filedata>50, axis=0)"
   ]
  },
  {
   "cell_type": "code",
   "execution_count": 105,
   "id": "e164e68d-03ea-492b-9a3e-114a76f79664",
   "metadata": {},
   "outputs": [
    {
     "data": {
      "text/plain": [
       "array([[False, False, False, False, False,  True, False, False, False,\n",
       "        False, False, False, False, False, False, False, False, False],\n",
       "       [False, False, False, False, False,  True, False,  True, False,\n",
       "        False, False, False, False, False, False, False, False, False],\n",
       "       [False, False, False, False, False, False, False, False,  True,\n",
       "        False, False, False, False, False, False, False,  True,  True]])"
      ]
     },
     "execution_count": 105,
     "metadata": {},
     "output_type": "execute_result"
    }
   ],
   "source": [
    "((filedata > 50) & (filedata < 100))"
   ]
  },
  {
   "cell_type": "code",
   "execution_count": 106,
   "id": "3d15a59b-56d7-4fc9-8e2f-dbc8f5d02210",
   "metadata": {},
   "outputs": [
    {
     "data": {
      "text/plain": [
       "array([[ True,  True,  True,  True,  True, False,  True,  True,  True,\n",
       "         True,  True,  True,  True,  True,  True,  True,  True,  True],\n",
       "       [ True,  True,  True,  True,  True, False,  True, False,  True,\n",
       "         True,  True,  True,  True,  True,  True,  True,  True,  True],\n",
       "       [ True,  True,  True,  True,  True,  True,  True,  True, False,\n",
       "         True,  True,  True,  True,  True,  True,  True, False, False]])"
      ]
     },
     "execution_count": 106,
     "metadata": {},
     "output_type": "execute_result"
    }
   ],
   "source": [
    "~((filedata > 50) & (filedata < 100))"
   ]
  },
  {
   "cell_type": "code",
   "execution_count": 119,
   "id": "ad31ce84-1630-438a-add3-03eea94dada8",
   "metadata": {},
   "outputs": [
    {
     "name": "stdout",
     "output_type": "stream",
     "text": [
      "[[ 1  2  3  4  5]\n",
      " [ 6  7  8  9 10]\n",
      " [11 12 13 14 15]\n",
      " [16 17 18 19 20]\n",
      " [21 22 23 24 25]\n",
      " [26 27 28 29 30]]\n",
      "\n",
      " [11 12 16 17]\n"
     ]
    }
   ],
   "source": [
    "#quiz\n",
    "matrix = np.arange(1,31).reshape(6,5)\n",
    "print(matrix)\n",
    "rta = matrix[(((matrix>10) & (matrix<13)) | ((matrix > 15) & (matrix <  18)))]\n",
    "print('\\n',rta)"
   ]
  },
  {
   "cell_type": "code",
   "execution_count": 120,
   "id": "b56679c8-d777-49a3-a258-acbaf0d2e64e",
   "metadata": {},
   "outputs": [
    {
     "data": {
      "text/plain": [
       "array([ 2,  8, 14, 20])"
      ]
     },
     "execution_count": 120,
     "metadata": {},
     "output_type": "execute_result"
    }
   ],
   "source": [
    "matrix[[0,1,2,3],[1,2,3,4]]\n"
   ]
  },
  {
   "cell_type": "code",
   "execution_count": 130,
   "id": "6a7ea0fb-710a-4472-b26a-eddc0d0020e0",
   "metadata": {},
   "outputs": [
    {
     "data": {
      "text/plain": [
       "array([[ 4,  5],\n",
       "       [24, 25],\n",
       "       [29, 30]])"
      ]
     },
     "execution_count": 130,
     "metadata": {},
     "output_type": "execute_result"
    }
   ],
   "source": [
    "matrix[[0,4,5],3:]"
   ]
  },
  {
   "cell_type": "code",
   "execution_count": null,
   "id": "b77ee10c-1cfe-482d-ba50-58c5b0b680cf",
   "metadata": {},
   "outputs": [],
   "source": []
  }
 ],
 "metadata": {
  "kernelspec": {
   "display_name": "Python 3 (ipykernel)",
   "language": "python",
   "name": "python3"
  },
  "language_info": {
   "codemirror_mode": {
    "name": "ipython",
    "version": 3
   },
   "file_extension": ".py",
   "mimetype": "text/x-python",
   "name": "python",
   "nbconvert_exporter": "python",
   "pygments_lexer": "ipython3",
   "version": "3.12.0"
  }
 },
 "nbformat": 4,
 "nbformat_minor": 5
}
